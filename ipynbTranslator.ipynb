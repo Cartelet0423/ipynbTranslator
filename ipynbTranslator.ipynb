{
 "cells": [
  {
   "cell_type": "code",
   "execution_count": null,
   "metadata": {},
   "outputs": [],
   "source": [
    "try:\n",
    "  from googletrans import Translator\n",
    "except :\n",
    "  !pip install googletrans　&> /dev/null\n",
    "  from googletrans import Translator\n",
    "import re\n",
    "from requests import get\n",
    "import json\n",
    "from google.colab import files\n",
    "\n",
    "translator = Translator()"
   ]
  },
  {
   "cell_type": "code",
   "execution_count": null,
   "metadata": {},
   "outputs": [],
   "source": [
    "#{ run: \"auto\" }\n",
    "url = \"\" #@param {type:\"string\"}\n",
    "url = url.replace('https://github.com/', 'https://raw.githubusercontent.com/').replace('/blob',\"\")\n",
    "ipynb = json.loads(get(url).text)\n",
    "for i, c in enumerate(ipynb['cells']):\n",
    "    for j, s in enumerate(c['source']):\n",
    "        if c['cell_type'] == 'markdown':\n",
    "            sh = re.match(\"#*\\s?\", s)\n",
    "            ipynb['cells'][i]['source'][j] = s[sh.span()[0]:sh.span()[1]] + translator.translate(s[sh.span()[1]:], dest=\"ja\").text + \"\\n\"\n",
    "        elif c['cell_type'] == 'code':\n",
    "            for comment in re.findall(\"#\\s*(.+?)#|#\\s*(.+)\\n?\", s):\n",
    "                comment = ''.join(comment)\n",
    "                s = s.replace(comment, translator.translate(comment, dest=\"ja\").text)\n",
    "            ipynb['cells'][i]['source'][j] = s\n",
    "            \n",
    "file_name = re.search(\".+/(.+?\\.ipynb)\", url).group(1)\n",
    "with open(file_name, \"w\", encoding=\"utf-8\") as f:\n",
    "    f.write(json.dumps(ipynb))\n",
    "files.download(file_name)"
   ]
  }
 ],
 "metadata": {
  "kernelspec": {
   "display_name": "Python 3",
   "language": "python",
   "name": "python3"
  },
  "language_info": {
   "codemirror_mode": {
    "name": "ipython",
    "version": 3
   },
   "file_extension": ".py",
   "mimetype": "text/x-python",
   "name": "python",
   "nbconvert_exporter": "python",
   "pygments_lexer": "ipython3",
   "version": "3.8.3"
  }
 },
 "nbformat": 4,
 "nbformat_minor": 4
}